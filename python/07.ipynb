{
 "cells": [
  {
   "cell_type": "markdown",
   "metadata": {},
   "source": [
    "# XOR probléma megoldása Torch segítségével"
   ]
  },
  {
   "cell_type": "code",
   "execution_count": 1,
   "metadata": {
    "collapsed": true
   },
   "outputs": [],
   "source": [
    "require \"torch\"\n",
    "require \"nn\"\n",
    "require \"optim\"\n",
    "GITHUB=true -- legyen true, ha GitHubon is lathato kepeket szeretnenk"
   ]
  },
  {
   "cell_type": "code",
   "execution_count": 2,
   "metadata": {
    "collapsed": false
   },
   "outputs": [],
   "source": [
    "-- tanito adatok (beX, beY, ki) formatumban\n",
    "data=torch.Tensor(4,3)\n",
    "data[1]=torch.Tensor({0,0,0})\n",
    "data[2]=torch.Tensor({0,1,1})\n",
    "data[3]=torch.Tensor({1,0,1})\n",
    "data[4]=torch.Tensor({1,1,0})"
   ]
  },
  {
   "cell_type": "code",
   "execution_count": 3,
   "metadata": {
    "collapsed": false
   },
   "outputs": [],
   "source": [
    "-- MLP halo megkonstrualasa\n",
    "inputs=2\n",
    "hidden_neurons=20\n",
    "outputs=1\n",
    "model=nn.Sequential()\n",
    "model:add(nn.Linear(inputs,hidden_neurons))\n",
    "model:add(nn.Tanh())\n",
    "model:add(nn.Linear(hidden_neurons,outputs))\n",
    "model:add(nn.Tanh())\n",
    "criterion=nn.MSECriterion() -- koltsegfuggveny: negyzetes hiba"
   ]
  },
  {
   "cell_type": "code",
   "execution_count": 4,
   "metadata": {
    "collapsed": false
   },
   "outputs": [],
   "source": [
    "-- tanitasi parameterek\n",
    "coefL1=0.0   -- L1 regularizacio parametere\n",
    "coefL2=1e-3  -- L2 regularizacio parametere\n",
    "optimState={ -- SGD beallitasai\n",
    "    learningRate=0.05,     -- tanulasi rata\n",
    "    weightDecay=0,         -- ez az L2 reg. lenne, de most magunknak irjuk meg\n",
    "    momentum=0,            -- momentum\n",
    "    nesterov=false,        -- Nesterov vagy sima momentum\n",
    "    dampening=0,           -- momentum csillapitasa\n",
    "    learningRateDecay=1e-5 -- tanulasi rata csokkentese a tanitas kozben\n",
    "}\n",
    "epoch=2000  -- epoch szam\n",
    "batchSize=2 -- batch meret"
   ]
  },
  {
   "cell_type": "code",
   "execution_count": 5,
   "metadata": {
    "collapsed": true
   },
   "outputs": [],
   "source": [
    "if(batchSize>data:size(1)) then\n",
    "    print(\"Hiba: batch meret nagyobb az adatok szamanal!\")\n",
    "    error()\n",
    "end\n",
    "batchInputs=torch.Tensor(batchSize,data:size(2)-1) -- bemenetek egy batch-ben\n",
    "batchLabels=torch.Tensor(batchSize) -- kimenetek egy batch-ben\n",
    "losses=torch.Tensor(epoch) -- hiba\n",
    "params,gradParams=model:getParameters() -- view a sulyokra es a gradiensekre\n",
    "--[[ ha GPU tamogatassal szeretnenk dolgozni:\n",
    "\n",
    "require \"cutorch\"\n",
    "require \"cunn\"\n",
    "model:cuda()\n",
    "criterion:cuda()\n",
    "data=data:cuda()\n",
    "batchInputs=batchInputs:cuda()\n",
    "batchLabels=batchLabels:cuda()\n",
    "\n",
    "]]--"
   ]
  },
  {
   "cell_type": "code",
   "execution_count": 6,
   "metadata": {
    "collapsed": false
   },
   "outputs": [
    {
     "data": {
      "text/plain": [
       "Tanitas...\t\n"
      ]
     },
     "execution_count": 6,
     "metadata": {},
     "output_type": "execute_result"
    },
    {
     "data": {
      "text/plain": [
       "Tanitas kesz!\t\n"
      ]
     },
     "execution_count": 6,
     "metadata": {},
     "output_type": "execute_result"
    }
   ],
   "source": [
    "-- mini-batch tanitas\n",
    "print(\"Tanitas...\");\n",
    "for i=1,epoch do\n",
    "    local shuffle=torch.randperm(data:size(1)) -- indexek veletlenszeruen megkeverve\n",
    "    for k=1,data:size(1),batchSize do -- vegiglepkedunk a batch-eken\n",
    "        local no=1\n",
    "        for j=k,math.min(k+batchSize-1,data:size(1)) do -- egy batch osszeallitasa\n",
    "            batchInputs[no]=data[{shuffle[j],{1,2}}]\n",
    "            batchLabels[no]=data[{shuffle[j],3}]\n",
    "            no=no+1\n",
    "        end\n",
    "        \n",
    "        local function feval(params) -- sulyokbol kiszamitja a hibat es a gradienseket\n",
    "            gradParams:zero()\n",
    "            local outputs=model:forward(batchInputs) -- a halo mukodtetese a batch-re\n",
    "            local loss=criterion:forward(outputs,batchLabels) -- hiba\n",
    "            local dloss_doutput=criterion:backward(outputs,batchLabels) -- delta\n",
    "            model:backward(batchInputs,dloss_doutput) -- gradiensek\n",
    "            if coefL1~=0 or coefL2~=0 then -- regularizacio\n",
    "                loss=loss+coefL1*torch.norm(params,1)\n",
    "                loss=loss+0.5*coefL2*torch.norm(params,2)^2\n",
    "                gradParams:add(torch.sign(params):mul(coefL1)+params:clone():mul(coefL2))\n",
    "            end\n",
    "            return loss,gradParams\n",
    "        end\n",
    "        \n",
    "        _,loss=optim.sgd(feval,params,optimState)\n",
    "        losses[i]=loss[1]\n",
    "    end\n",
    "end\n",
    "print(\"Tanitas kesz!\")"
   ]
  },
  {
   "cell_type": "code",
   "execution_count": 7,
   "metadata": {
    "collapsed": false
   },
   "outputs": [
    {
     "data": {
      "text/plain": [
       "Modell kimenete:\t\n",
       " 0.0047\n",
       " 0.9442\n",
       " 0.9432\n",
       " 0.0065\n",
       "[torch.DoubleTensor of size 4x1]\n",
       "\n",
       "Elvart kimenet:\t\n",
       " 0\n",
       " 1\n",
       " 1\n",
       " 0\n",
       "[torch.DoubleTensor of size 4]\n",
       "\n"
      ]
     },
     "execution_count": 7,
     "metadata": {},
     "output_type": "execute_result"
    }
   ],
   "source": [
    "-- a halo mukodtetese a tanito adatokra\n",
    "print(\"Modell kimenete:\")\n",
    "print(model:forward(data[{{},{1,2}}]))\n",
    "print(\"Elvart kimenet:\")\n",
    "print(data[{{},3}])"
   ]
  },
  {
   "cell_type": "code",
   "execution_count": 8,
   "metadata": {
    "collapsed": false
   },
   "outputs": [
    {
     "data": {
      "image/png": "[encoded data removed]",
      "text/plain": [
       "Console does not support images"
      ]
     },
     "metadata": {
      "image/png": {
       "height": 480,
       "width": 640
      }
     },
     "output_type": "display_data"
    }
   ],
   "source": [
    "-- hiba abrazolasa\n",
    "local x=torch.linspace(0,epoch,epoch)\n",
    "if GITHUB then\n",
    "    require \"gnuplot\"\n",
    "    gnuplot.pngfigure(\"plot.png\")\n",
    "    gnuplot.plot(x,losses,\"-\")\n",
    "    gnuplot.title(\"Konvergencia\")\n",
    "    gnuplot.plotflush()\n",
    "    local t0=os.clock()\n",
    "    while ((os.clock()-t0)<3) do end -- varunk egy kicsit, hogy elkeszuljon a fajl\n",
    "    itorch.image(\"plot.png\")\n",
    "    os.remove(\"plot.png\") -- toroljuk a fajlt\n",
    "else -- ez egy JavaScript alapu interaktiv plot, de a GitHub nem jeleniti meg\n",
    "    local plot=itorch.Plot()\n",
    "    plot:line(x,losses)\n",
    "    plot:title(\"Konvergencia\")\n",
    "    plot:draw()\n",
    "end"
   ]
  },
  {
   "cell_type": "code",
   "execution_count": 9,
   "metadata": {
    "collapsed": false
   },
   "outputs": [
    {
     "data": {
      "text/plain": [
       " 1.7976\n",
       " 1.8042\n",
       " 0.1564\n",
       " 0.5677\n",
       " 0.2574\n",
       "-0.3490\n",
       "-0.4262\n",
       " 0.7857\n",
       " 0.7968\n",
       "-0.6390\n",
       " 0.3886\n",
       "-0.4644\n",
       " 0.1505\n",
       "-0.4660\n",
       "-0.5550\n",
       "-0.6237\n",
       "-0.1941\n",
       " 0.6249\n",
       "-0.2791\n",
       " 0.5530\n",
       " 0.3993\n",
       " 0.5182\n",
       "-0.1515\n",
       "-0.2670\n",
       "-0.2017\n",
       "-0.0220\n",
       " 0.1170\n",
       " 0.1152\n",
       "-0.4237\n",
       "-0.0010\n",
       "-0.8906\n",
       " 0.3863\n",
       "-0.4347\n",
       "-0.2606\n",
       " 0.5617\n",
       " 0.6067\n",
       "-0.5714\n",
       "-0.1630\n",
       "-0.2129\n",
       "-0.1395\n",
       "-0.5159\n",
       "-0.4090\n",
       "-0.2748\n",
       " 0.2272\n",
       " 0.5405\n",
       "-0.4574\n",
       "-0.3523\n",
       " 0.9257\n",
       "-0.0744\n",
       " 0.4434\n",
       "-0.7118\n",
       " 0.3759\n",
       " 0.3046\n",
       "-0.2191\n",
       "-0.1120\n",
       "-0.2056\n",
       " 0.4989\n",
       "-0.9179\n",
       "-0.3118\n",
       " 0.1371\n",
       " 2.2413\n",
       "-0.2447\n",
       " 0.1384\n",
       "-0.4199\n",
       "-0.6993\n",
       " 0.3424\n",
       " 0.2515\n",
       " 0.7473\n",
       "-0.2120\n",
       "-0.3614\n",
       "-0.5550\n",
       " 0.2120\n",
       " 0.1322\n",
       "-0.1244\n",
       " 0.1702\n",
       " 0.6559\n",
       " 0.4377\n",
       "-0.7606\n",
       "-0.0616\n",
       " 0.0420\n",
       " 0.1640\n",
       "[torch.DoubleTensor of size 81]\n",
       "\n"
      ]
     },
     "execution_count": 9,
     "metadata": {},
     "output_type": "execute_result"
    }
   ],
   "source": [
    "print(params) -- a halo sulyai"
   ]
  },
  {
   "cell_type": "code",
   "execution_count": null,
   "metadata": {
    "collapsed": true
   },
   "outputs": [],
   "source": []
  }
 ],
 "metadata": {
  "kernelspec": {
   "display_name": "iTorch",
   "language": "lua",
   "name": "itorch"
  },
  "language_info": {
   "name": "lua",
   "version": "5.1"
  }
 },
 "nbformat": 4,
 "nbformat_minor": 0
}
